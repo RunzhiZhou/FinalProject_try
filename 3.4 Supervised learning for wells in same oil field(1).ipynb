{
 "cells": [
  {
   "cell_type": "code",
   "execution_count": 40,
   "metadata": {},
   "outputs": [],
   "source": [
    "import torch\n",
    "import torch.nn as nn\n",
    "import torchvision.transforms as transforms"
   ]
  },
  {
   "cell_type": "code",
   "execution_count": 41,
   "metadata": {},
   "outputs": [],
   "source": [
    "import openpyxl\n",
    "from openpyxl import load_workbook\n",
    "import pandas as pd\n",
    "import numpy as np"
   ]
  },
  {
   "cell_type": "code",
   "execution_count": 42,
   "metadata": {},
   "outputs": [],
   "source": [
    "device = torch.device('cuda' if torch.cuda.is_available() else 'cpu')"
   ]
  },
  {
   "cell_type": "code",
   "execution_count": 43,
   "metadata": {},
   "outputs": [
    {
     "data": {
      "text/plain": [
       "device(type='cpu')"
      ]
     },
     "execution_count": 43,
     "metadata": {},
     "output_type": "execute_result"
    }
   ],
   "source": [
    "device"
   ]
  },
  {
   "cell_type": "code",
   "execution_count": null,
   "metadata": {},
   "outputs": [],
   "source": []
  },
  {
   "cell_type": "code",
   "execution_count": 44,
   "metadata": {},
   "outputs": [],
   "source": [
    "def load_data(sheets_in_use):\n",
    "    wb = load_workbook(\"data1.xlsx\")\n",
    "    sheets = wb.sheetnames\n",
    "    \n",
    "    raw_data = []\n",
    "    c = [(1, 1), (1, 2), (2, 1), (2, 2), (3, 1), (3, 2), ('Log_Facies', 'Fluid')]\n",
    "    for i, sname in enumerate(sheets):\n",
    "        print(i, sname)\n",
    "        if sname not in sheets_in_use:\n",
    "            continue\n",
    "        for row in wb[sname]:\n",
    "            data = [c.value for c in row]\n",
    "            lf = data[-3]\n",
    "            f = data[-1]\n",
    "            if lf is None or f is None:\n",
    "                continue\n",
    "            data.append(c.index((lf, f)))\n",
    "            raw_data.append(data)\n",
    "    head = raw_data[0]\n",
    "    head[-1] = \"class\"\n",
    "    body = [r for r in raw_data if (r[0]!= head[0] and r[0] is not None)]\n",
    "    df = pd.DataFrame(body, columns=head)\n",
    "    return df"
   ]
  },
  {
   "cell_type": "code",
   "execution_count": 45,
   "metadata": {},
   "outputs": [
    {
     "name": "stdout",
     "output_type": "stream",
     "text": [
      "0 1D-02\n",
      "1 1F-11\n",
      "2 1K-01\n",
      "3 1X-02\n",
      "4 98_6-8\n",
      "5 Well_1\n",
      "0 1D-02\n",
      "1 1F-11\n",
      "2 1K-01\n",
      "3 1X-02\n",
      "4 98_6-8\n",
      "5 Well_1\n"
     ]
    }
   ],
   "source": [
    "data_a = load_data(['1K-01'])\n",
    "data_b = load_data(['1X-02'])"
   ]
  },
  {
   "cell_type": "code",
   "execution_count": 46,
   "metadata": {},
   "outputs": [],
   "source": [
    "X = data_a[[\"DEPTH\", \"CALI\", \"DT\", \"GR\", \"LLD\", \"LLS\", \"MSFL\", \"NPHI\", \"RHOB\"]]\n",
    "X_2 = data_b[[\"DEPTH\", \"CALI\", \"DT\", \"GR\", \"LLD\", \"LLS\", \"MSFL\", \"NPHI\", \"RHOB\"]]"
   ]
  },
  {
   "cell_type": "code",
   "execution_count": 47,
   "metadata": {},
   "outputs": [],
   "source": [
    "class NeuralNet(nn.Module):\n",
    "    \n",
    "    def __init__(self, input_size, hidden_size, num_classes):\n",
    "        super(NeuralNet, self).__init__()\n",
    "        self.fc1 = nn.Linear(input_size, hidden_size)\n",
    "        self.act = nn.ReLU()\n",
    "        self.fc2 = nn.Linear(hidden_size, num_classes)\n",
    "        \n",
    "    def forward(self, x):\n",
    "        x = self.fc1(x)\n",
    "        x = self.act(x)\n",
    "        return self.fc2(x)"
   ]
  },
  {
   "cell_type": "code",
   "execution_count": 48,
   "metadata": {},
   "outputs": [],
   "source": [
    "Y = data_a[\"Log_Facies\"]\n",
    "Y_2 = data_b[\"Log_Facies\"]"
   ]
  },
  {
   "cell_type": "code",
   "execution_count": 49,
   "metadata": {},
   "outputs": [],
   "source": [
    "input_size = 9\n",
    "hidden_size = 10\n",
    "num_classes = 3\n",
    "epochs = 100\n",
    "lr = 0.01"
   ]
  },
  {
   "cell_type": "code",
   "execution_count": 50,
   "metadata": {},
   "outputs": [],
   "source": [
    "model = NeuralNet(input_size, hidden_size, num_classes)"
   ]
  },
  {
   "cell_type": "code",
   "execution_count": 51,
   "metadata": {},
   "outputs": [],
   "source": [
    "criterion = nn.CrossEntropyLoss()\n",
    "optimizer = torch.optim.SGD(model.parameters(), lr=lr)\n",
    "# optimizer = torch.optim.Adam(model.parameters(), lr=lr)\n",
    "\n"
   ]
  },
  {
   "cell_type": "code",
   "execution_count": 52,
   "metadata": {},
   "outputs": [
    {
     "data": {
      "text/plain": [
       "torch.Size([1094, 9])"
      ]
     },
     "execution_count": 52,
     "metadata": {},
     "output_type": "execute_result"
    }
   ],
   "source": [
    "from sklearn.preprocessing import StandardScaler\n",
    "ss =  StandardScaler()\n",
    "X = ss.fit_transform(X.values)\n",
    "X = torch.Tensor(X)\n",
    "X.shape\n",
    "\n",
    "X_2 = ss.fit_transform(X_2.values)\n",
    "X_2 = torch.Tensor(X_2)\n",
    "X_2.shape"
   ]
  },
  {
   "cell_type": "code",
   "execution_count": 53,
   "metadata": {},
   "outputs": [],
   "source": [
    "Y = Y-1\n",
    "Y = torch.Tensor(Y)\n",
    "Y = Y.long()\n",
    "\n",
    "Y_2 = Y_2-1\n",
    "Y_2 = torch.Tensor(Y_2)\n",
    "Y_2 = Y_2.long()"
   ]
  },
  {
   "cell_type": "code",
   "execution_count": 54,
   "metadata": {},
   "outputs": [],
   "source": [
    "for e in range(1000):\n",
    "    l = 0\n",
    "    x = X\n",
    "    label = Y\n",
    "    pred = model(x)\n",
    "#     print(pred.shape, label.shape, x.shape)\n",
    "    loss = criterion(pred, label)\n",
    "#     print(loss)\n",
    "    optimizer.zero_grad()\n",
    "    loss.backward()\n",
    "    optimizer.step()\n",
    "#     for i in range(X.shape[0]):\n",
    "#         x = X[i].reshape(-1, 9)\n",
    "#         print(x.shape)\n",
    "# #         label = torch.Tensor(Y[i])\n",
    "#         label = Y[i].view(1)\n",
    "# #         print(Y[i], label)\n",
    "#         pred = model(x)\n",
    "    \n",
    "# #         print(x.shape, label.shape, pred.shape)\n",
    "#         loss = criterion(pred, label)\n",
    "#         l += loss\n",
    "#         optimizer.zero_grad()\n",
    "#         loss.backward()\n",
    "#         optimizer.step()\n",
    "#     print(e, l)"
   ]
  },
  {
   "cell_type": "code",
   "execution_count": 55,
   "metadata": {},
   "outputs": [
    {
     "name": "stdout",
     "output_type": "stream",
     "text": [
      "824 1094 0.753199268738574\n"
     ]
    }
   ],
   "source": [
    "with torch.no_grad():\n",
    "    correct = 0\n",
    "    all_p = []\n",
    "    all_pred = []\n",
    "    for i in range(X_2.shape[0]):\n",
    "        x = X_2[i].reshape(-1, 9)\n",
    "    #         label = torch.Tensor(Y[i])\n",
    "#         print(x)\n",
    "        label = Y_2[i].view(1)\n",
    "    #         print(Y[i], label)\n",
    "        pred = model(x)\n",
    "        all_p.append(pred)\n",
    "        _, pred = torch.max(pred, 1)\n",
    "        all_pred.append(pred)\n",
    "        if pred == label:\n",
    "            correct += 1\n",
    "    total = X_2.shape[0]\n",
    "    print(correct, total, correct/total)"
   ]
  },
  {
   "cell_type": "code",
   "execution_count": 56,
   "metadata": {},
   "outputs": [
    {
     "name": "stdout",
     "output_type": "stream",
     "text": [
      "763 1025 0.744390243902439\n"
     ]
    }
   ],
   "source": [
    "with torch.no_grad():\n",
    "    correct = 0\n",
    "    all_p = []\n",
    "    all_pred = []\n",
    "    for i in range(X.shape[0]):\n",
    "        x = X[i].reshape(-1, 9)\n",
    "    #         label = torch.Tensor(Y[i])\n",
    "#         print(x)\n",
    "        label = Y[i].view(1)\n",
    "    #         print(Y[i], label)\n",
    "        pred = model(x)\n",
    "        all_p.append(pred)\n",
    "        _, pred = torch.max(pred, 1)\n",
    "        all_pred.append(pred)\n",
    "        if pred == label:\n",
    "            correct += 1\n",
    "    total = X.shape[0]\n",
    "    print(correct, total, correct/total)"
   ]
  },
  {
   "cell_type": "code",
   "execution_count": 57,
   "metadata": {},
   "outputs": [],
   "source": [
    "all_pred = torch.cat(all_pred)"
   ]
  },
  {
   "cell_type": "code",
   "execution_count": 58,
   "metadata": {},
   "outputs": [
    {
     "data": {
      "text/plain": [
       "0    626\n",
       "1    399\n",
       "dtype: int64"
      ]
     },
     "execution_count": 58,
     "metadata": {},
     "output_type": "execute_result"
    }
   ],
   "source": [
    "pd.Series(all_pred.numpy()).value_counts()"
   ]
  },
  {
   "cell_type": "code",
   "execution_count": null,
   "metadata": {},
   "outputs": [],
   "source": [
    "\n"
   ]
  },
  {
   "cell_type": "code",
   "execution_count": 59,
   "metadata": {},
   "outputs": [],
   "source": [
    "\n",
    "Y = data_a[\"Log_Facies\"]\n"
   ]
  },
  {
   "cell_type": "markdown",
   "metadata": {},
   "source": [
    "# Six"
   ]
  },
  {
   "cell_type": "code",
   "execution_count": 60,
   "metadata": {},
   "outputs": [],
   "source": [
    "Y_a = data_a['class']"
   ]
  },
  {
   "cell_type": "code",
   "execution_count": 61,
   "metadata": {},
   "outputs": [
    {
     "data": {
      "text/plain": [
       "1    426\n",
       "3    278\n",
       "2    153\n",
       "0    104\n",
       "4     64\n",
       "Name: class, dtype: int64"
      ]
     },
     "execution_count": 61,
     "metadata": {},
     "output_type": "execute_result"
    }
   ],
   "source": [
    "Y_a.value_counts()"
   ]
  },
  {
   "cell_type": "code",
   "execution_count": 62,
   "metadata": {},
   "outputs": [],
   "source": [
    "X = data_a[[\"DEPTH\", \"CALI\", \"DT\", \"GR\", \"LLD\", \"LLS\", \"MSFL\", \"NPHI\", \"RHOB\"]]\n",
    "X_2 = data_b[[\"DEPTH\", \"CALI\", \"DT\", \"GR\", \"LLD\", \"LLS\", \"MSFL\", \"NPHI\", \"RHOB\"]]"
   ]
  },
  {
   "cell_type": "code",
   "execution_count": 63,
   "metadata": {},
   "outputs": [
    {
     "data": {
      "text/plain": [
       "torch.Size([1094, 9])"
      ]
     },
     "execution_count": 63,
     "metadata": {},
     "output_type": "execute_result"
    }
   ],
   "source": [
    "from sklearn.preprocessing import StandardScaler\n",
    "ss = StandardScaler()\n",
    "X = ss.fit_transform(X.values)\n",
    "X = torch.Tensor(X)\n",
    "X.shape\n",
    "\n",
    "X_2 = ss.fit_transform(X_2.values)\n",
    "X_2 = torch.Tensor(X_2)\n",
    "X_2.shape"
   ]
  },
  {
   "cell_type": "code",
   "execution_count": 64,
   "metadata": {},
   "outputs": [],
   "source": [
    "Y = data_a[\"class\"]\n",
    "Y_2 = data_b[\"class\"]\n",
    "Y = Y\n",
    "Y = torch.Tensor(Y)\n",
    "Y = Y.long()\n",
    "\n",
    "Y_2 = Y_2\n",
    "Y_2 = torch.Tensor(Y_2)\n",
    "Y_2 = Y_2.long()"
   ]
  },
  {
   "cell_type": "code",
   "execution_count": 65,
   "metadata": {},
   "outputs": [],
   "source": [
    "input_size = 9\n",
    "hidden_size = 100\n",
    "num_classes = 6\n",
    "epochs = 100\n",
    "lr = 0.01"
   ]
  },
  {
   "cell_type": "code",
   "execution_count": 66,
   "metadata": {},
   "outputs": [],
   "source": [
    "model = NeuralNet(input_size, hidden_size, num_classes)\n",
    "criterion = nn.CrossEntropyLoss()\n",
    "optimizer = torch.optim.SGD(model.parameters(), lr=lr)"
   ]
  },
  {
   "cell_type": "code",
   "execution_count": 67,
   "metadata": {},
   "outputs": [],
   "source": [
    "for e in range(epochs):\n",
    "    l = 0\n",
    "    x = X\n",
    "    label = Y\n",
    "    pred = model(x)\n",
    "#     print(pred.shape, label.shape, x.shape)\n",
    "    loss = criterion(pred, label)\n",
    "#     print(loss)\n",
    "    optimizer.zero_grad()\n",
    "    loss.backward()\n",
    "    optimizer.step()"
   ]
  },
  {
   "cell_type": "code",
   "execution_count": 68,
   "metadata": {},
   "outputs": [
    {
     "name": "stdout",
     "output_type": "stream",
     "text": [
      "745 1094 0.6809872029250457\n"
     ]
    }
   ],
   "source": [
    "with torch.no_grad():\n",
    "    correct = 0\n",
    "    all_p = []\n",
    "    all_pred = []\n",
    "    for i in range(X_2.shape[0]):\n",
    "        x = X_2[i].reshape(-1, 9)\n",
    "    #         label = torch.Tensor(Y[i])\n",
    "#         print(x)\n",
    "        label = Y_2[i].view(1)\n",
    "    #         print(Y[i], label)\n",
    "        pred = model(x)\n",
    "        all_p.append(pred)\n",
    "        _, pred = torch.max(pred, 1)\n",
    "        all_pred.append(pred)\n",
    "        if pred == label:\n",
    "            correct += 1\n",
    "    total = X_2.shape[0]\n",
    "    print(correct, total, correct/total)"
   ]
  },
  {
   "cell_type": "code",
   "execution_count": 69,
   "metadata": {},
   "outputs": [
    {
     "name": "stdout",
     "output_type": "stream",
     "text": [
      "658 1025 0.6419512195121951\n"
     ]
    }
   ],
   "source": [
    "with torch.no_grad():\n",
    "    correct = 0\n",
    "    all_p = []\n",
    "    all_pred = []\n",
    "    for i in range(X.shape[0]):\n",
    "        x = X[i].reshape(-1, 9)\n",
    "    #         label = torch.Tensor(Y[i])\n",
    "#         print(x)\n",
    "        label = Y[i].view(1)\n",
    "    #         print(Y[i], label)\n",
    "        pred = model(x)\n",
    "        all_p.append(pred)\n",
    "        _, pred = torch.max(pred, 1)\n",
    "        all_pred.append(pred)\n",
    "        if pred == label:\n",
    "            correct += 1\n",
    "    total = X.shape[0]\n",
    "    print(correct, total, correct/total)"
   ]
  }
 ],
 "metadata": {
  "kernelspec": {
   "display_name": "Python 3",
   "language": "python",
   "name": "python3"
  },
  "language_info": {
   "codemirror_mode": {
    "name": "ipython",
    "version": 3
   },
   "file_extension": ".py",
   "mimetype": "text/x-python",
   "name": "python",
   "nbconvert_exporter": "python",
   "pygments_lexer": "ipython3",
   "version": "3.7.0"
  }
 },
 "nbformat": 4,
 "nbformat_minor": 2
}
