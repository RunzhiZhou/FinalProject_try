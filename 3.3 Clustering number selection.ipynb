{
 "cells": [
  {
   "cell_type": "code",
   "execution_count": 1,
   "metadata": {},
   "outputs": [],
   "source": [
    "import openpyxl\n",
    "from openpyxl import load_workbook\n",
    "import pandas as pd\n",
    "import numpy as np\n",
    "import matplotlib.pyplot as plt\n",
    "from mpl_toolkits.mplot3d import Axes3D\n",
    "\n",
    "%matplotlib notebook"
   ]
  },
  {
   "cell_type": "code",
   "execution_count": 2,
   "metadata": {},
   "outputs": [],
   "source": [
    "df = pd.read_excel(\"data.xlsx\", sheet_name=None, header=0)\n",
    "all_df = {}\n",
    "for i, d in enumerate(df.items()):\n",
    "    name, data = d\n",
    "    all_df[name] = data"
   ]
  },
  {
   "cell_type": "code",
   "execution_count": 3,
   "metadata": {},
   "outputs": [],
   "source": [
    "data = all_df['1K-01']\n",
    "data = data[data['DEPTH'] == data[\"DEPTH\"]]   # drop NaN value row\n",
    "data = data.drop([\"Core_Facies\"], axis=1)\n",
    "comb = [(1, 1), (1, 2), (1, 3), (2, 1), (2, 2), (2, 3)]\n",
    "def label_facies(row):\n",
    "    f = row['Fluid']\n",
    "    lf = row['Log_Facies']\n",
    "    return comb.index((f, lf))\n",
    "data['MixLabel'] = data.apply(label_facies, axis=1)"
   ]
  },
  {
   "cell_type": "code",
   "execution_count": 4,
   "metadata": {},
   "outputs": [],
   "source": [
    "from sklearn.preprocessing import StandardScaler"
   ]
  },
  {
   "cell_type": "markdown",
   "metadata": {},
   "source": [
    "## by categories "
   ]
  },
  {
   "cell_type": "code",
   "execution_count": 5,
   "metadata": {},
   "outputs": [],
   "source": [
    "X = data[[\"DEPTH\", \"CALI\", \"DT\", \"GR\", \"LLD\", \"LLS\", \"MSFL\", \"NPHI\", \"RHOB\"]]\n",
    "ss = StandardScaler()\n",
    "X = ss.fit_transform(X)\n",
    "Y = data['MixLabel']"
   ]
  },
  {
   "cell_type": "code",
   "execution_count": 6,
   "metadata": {},
   "outputs": [
    {
     "data": {
      "text/plain": [
       "3    426\n",
       "4    278\n",
       "1    153\n",
       "0    104\n",
       "2     64\n",
       "Name: MixLabel, dtype: int64"
      ]
     },
     "execution_count": 6,
     "metadata": {},
     "output_type": "execute_result"
    }
   ],
   "source": [
    "Y.value_counts()"
   ]
  },
  {
   "cell_type": "code",
   "execution_count": 7,
   "metadata": {},
   "outputs": [],
   "source": [
    "from sklearn.cluster import KMeans"
   ]
  },
  {
   "cell_type": "code",
   "execution_count": 8,
   "metadata": {},
   "outputs": [],
   "source": [
    "model = KMeans(n_clusters=5)\n",
    "Y_pred = model.fit_predict(X)"
   ]
  },
  {
   "cell_type": "code",
   "execution_count": 9,
   "metadata": {},
   "outputs": [],
   "source": [
    "from sklearn.metrics import accuracy_score"
   ]
  },
  {
   "cell_type": "code",
   "execution_count": 10,
   "metadata": {},
   "outputs": [
    {
     "name": "stdout",
     "output_type": "stream",
     "text": [
      "cluster 0\n",
      "4    206\n",
      "3    124\n",
      "Name: MixLabel, dtype: int64\n",
      "cluster 1\n",
      "1    83\n",
      "2    63\n",
      "0    13\n",
      "4    10\n",
      "3     7\n",
      "Name: MixLabel, dtype: int64\n",
      "cluster 2\n",
      "3    271\n",
      "4     60\n",
      "Name: MixLabel, dtype: int64\n",
      "cluster 3\n",
      "3    1\n",
      "0    1\n",
      "Name: MixLabel, dtype: int64\n",
      "cluster 4\n",
      "0    90\n",
      "1    70\n",
      "3    23\n",
      "4     2\n",
      "2     1\n",
      "Name: MixLabel, dtype: int64\n"
     ]
    }
   ],
   "source": [
    "for i in set(Y):\n",
    "#     print(i, pd.Series(Y_pred[Y==i]).apply(lambda x: str(x)).describe())\n",
    "#     print(i, pd.Series(Y_pred[Y==i]).apply(lambda x: str(x)).value_counts())\n",
    "#     print(\"#######\")\n",
    "    print(\"cluster\", i)\n",
    "    print(pd.Series(Y[Y_pred==i]).apply(lambda x: str(x)).value_counts())\n",
    "#     print(\"####################\")"
   ]
  },
  {
   "cell_type": "code",
   "execution_count": 11,
   "metadata": {},
   "outputs": [],
   "source": [
    "data_test = all_df['1X-02']\n",
    "data_test = data_test[data_test['DEPTH'] == data_test[\"DEPTH\"]]  \n",
    "data_test = data_test.drop([\"Core_Facies\"], axis=1)\n",
    "\n",
    "data_test['MixLabel'] = data_test.apply(label_facies, axis=1)\n",
    "X_test = data_test[[\"DEPTH\", \"CALI\", \"DT\", \"GR\", \"LLD\", \"LLS\", \"MSFL\", \"NPHI\", \"RHOB\"]]\n",
    "X_test = ss.fit_transform(X_test)\n",
    "Y_test = data_test['MixLabel']\n",
    "Y_test_pred = model.predict(X_test)"
   ]
  },
  {
   "cell_type": "code",
   "execution_count": 14,
   "metadata": {},
   "outputs": [
    {
     "name": "stdout",
     "output_type": "stream",
     "text": [
      "cluster 0\n",
      "3    188\n",
      "4    129\n",
      "2     11\n",
      "Name: MixLabel, dtype: int64\n",
      "cluster 1\n",
      "1    99\n",
      "0    37\n",
      "2    34\n",
      "4    27\n",
      "3    16\n",
      "Name: MixLabel, dtype: int64\n",
      "cluster 2\n",
      "3    461\n",
      "4     26\n",
      "Name: MixLabel, dtype: int64\n",
      "cluster 4\n",
      "1    44\n",
      "0    21\n",
      "3     1\n",
      "Name: MixLabel, dtype: int64\n"
     ]
    }
   ],
   "source": [
    "for i in set(Y_test_pred):\n",
    "#     print(i, pd.Series(Y_pred[Y==i]).apply(lambda x: str(x)).describe())\n",
    "#     print(i, pd.Series(Y_pred[Y==i]).apply(lambda x: str(x)).value_counts())\n",
    "#     print(\"#######\")\n",
    "    print(\"cluster\", i)\n",
    "    print(pd.Series(Y_test[Y_test_pred==i]).apply(lambda x: str(x)).value_counts())\n",
    "#     print(\"####################\")"
   ]
  },
  {
   "cell_type": "markdown",
   "metadata": {},
   "source": [
    "## by categories 2"
   ]
  },
  {
   "cell_type": "code",
   "execution_count": 17,
   "metadata": {},
   "outputs": [
    {
     "name": "stdout",
     "output_type": "stream",
     "text": [
      "cluster 0\n",
      "1    319\n",
      "2    162\n",
      "Name: Fluid, dtype: int64\n",
      "cluster 1\n",
      "2    542\n",
      "1      2\n",
      "Name: Fluid, dtype: int64\n"
     ]
    }
   ],
   "source": [
    "model = KMeans(n_clusters=2)\n",
    "Y = data['Fluid']\n",
    "Y_pred = model.fit_predict(X)\n",
    "for i in set(Y_pred):\n",
    "    print(\"cluster\", i)\n",
    "    print(pd.Series(Y[Y_pred==i]).apply(lambda x: str(x)).value_counts())"
   ]
  },
  {
   "cell_type": "code",
   "execution_count": 18,
   "metadata": {},
   "outputs": [
    {
     "name": "stdout",
     "output_type": "stream",
     "text": [
      "cluster 0\n",
      "2    293\n",
      "1    233\n",
      "Name: Fluid, dtype: int64\n",
      "cluster 1\n",
      "2    555\n",
      "1     13\n",
      "Name: Fluid, dtype: int64\n"
     ]
    }
   ],
   "source": [
    "Y_test = data_test['Fluid']\n",
    "Y_test_pred = model.predict(X_test)\n",
    "for i in set(Y_test_pred):\n",
    "    print(\"cluster\", i)\n",
    "    print(pd.Series(Y_test[Y_test_pred==i]).apply(lambda x: str(x)).value_counts())"
   ]
  },
  {
   "cell_type": "markdown",
   "metadata": {},
   "source": [
    "## by categories 3"
   ]
  },
  {
   "cell_type": "code",
   "execution_count": 21,
   "metadata": {},
   "outputs": [
    {
     "name": "stdout",
     "output_type": "stream",
     "text": [
      "cluster 0\n",
      "1    283\n",
      "2     61\n",
      "Name: Log_Facies, dtype: int64\n",
      "cluster 1\n",
      "2    209\n",
      "1    133\n",
      "3      2\n",
      "Name: Log_Facies, dtype: int64\n",
      "cluster 2\n",
      "2    161\n",
      "1    114\n",
      "3     62\n",
      "Name: Log_Facies, dtype: int64\n"
     ]
    }
   ],
   "source": [
    "model = KMeans(n_clusters=3)\n",
    "Y = data['Log_Facies'].apply(lambda x: int(x))\n",
    "Y_pred = model.fit_predict(X)\n",
    "for i in set(Y_pred):\n",
    "    print(\"cluster\", i)\n",
    "    print(pd.Series(Y[Y_pred==i]).apply(lambda x: str(x)).value_counts())"
   ]
  },
  {
   "cell_type": "code",
   "execution_count": 22,
   "metadata": {},
   "outputs": [
    {
     "name": "stdout",
     "output_type": "stream",
     "text": [
      "cluster 0\n",
      "1    455\n",
      "2     26\n",
      "Name: Log_Facies, dtype: int64\n",
      "cluster 1\n",
      "1    201\n",
      "2    129\n",
      "3     13\n",
      "Name: Log_Facies, dtype: int64\n",
      "cluster 2\n",
      "2    170\n",
      "1     68\n",
      "3     32\n",
      "Name: Log_Facies, dtype: int64\n"
     ]
    }
   ],
   "source": [
    "Y_test = data_test['Log_Facies'].apply(lambda x: int(x))\n",
    "Y_test_pred = model.predict(X_test)\n",
    "for i in set(Y_test_pred):\n",
    "    print(\"cluster\", i)\n",
    "    print(pd.Series(Y_test[Y_test_pred==i]).apply(lambda x: str(x)).value_counts())"
   ]
  },
  {
   "cell_type": "markdown",
   "metadata": {},
   "source": [
    "## Clustering number selection (by the best K number)"
   ]
  },
  {
   "cell_type": "code",
   "execution_count": 25,
   "metadata": {},
   "outputs": [],
   "source": [
    "d = []\n",
    "r = [i for i in range(2, 15)]\n",
    "for i in r:\n",
    "    model = KMeans(n_clusters=i)\n",
    "    model.fit(X)\n",
    "    d.append(model.inertia_)"
   ]
  },
  {
   "cell_type": "code",
   "execution_count": 26,
   "metadata": {},
   "outputs": [
    {
     "data": {
      "text/plain": [
       "[<matplotlib.lines.Line2D at 0x1a2daba390>]"
      ]
     },
     "execution_count": 26,
     "metadata": {},
     "output_type": "execute_result"
    },
    {
     "data": {
      "image/png": "[encoded data removed]",
      "text/plain": [
       "<Figure size 432x288 with 1 Axes>"
      ]
     },
     "metadata": {
      "needs_background": "light"
     },
     "output_type": "display_data"
    }
   ],
   "source": [
    "plt.plot(r, d)"
   ]
  },
  {
   "cell_type": "code",
   "execution_count": 33,
   "metadata": {},
   "outputs": [
    {
     "name": "stdout",
     "output_type": "stream",
     "text": [
      "2 6624.415402606756\n",
      "3 5345.954206292212\n",
      "4 4523.2132571509665\n",
      "5 3983.040207408082\n",
      "6 3566.463325682108\n",
      "7 3119.2712897062906\n",
      "8 2872.3932596251307\n",
      "9 2625.945532337778\n",
      "10 2413.5561677822434\n",
      "11 2256.349729762304\n",
      "12 2137.6459033910005\n",
      "13 2015.155969632526\n",
      "14 1901.6742018892405\n"
     ]
    }
   ],
   "source": [
    "from pprint import pprint\n",
    "for i, n in enumerate(r):\n",
    "    print(n, d[i])"
   ]
  },
  {
   "cell_type": "code",
   "execution_count": 54,
   "metadata": {},
   "outputs": [
    {
     "name": "stdout",
     "output_type": "stream",
     "text": [
      "cluster 0\n",
      "4    114\n",
      "3     28\n",
      "Name: MixLabel, dtype: int64\n",
      "cluster 1\n",
      "1    90\n",
      "2    63\n",
      "4    11\n",
      "0    11\n",
      "3     8\n",
      "Name: MixLabel, dtype: int64\n",
      "cluster 2\n",
      "0    88\n",
      "1    63\n",
      "3    17\n",
      "4     2\n",
      "2     1\n",
      "Name: MixLabel, dtype: int64\n",
      "cluster 3\n",
      "3    129\n",
      "4    116\n",
      "Name: MixLabel, dtype: int64\n",
      "cluster 4\n",
      "3    1\n",
      "0    1\n",
      "Name: MixLabel, dtype: int64\n",
      "cluster 5\n",
      "3    243\n",
      "4     35\n",
      "Name: MixLabel, dtype: int64\n",
      "cluster 6\n",
      "0    4\n",
      "Name: MixLabel, dtype: int64\n"
     ]
    }
   ],
   "source": [
    "model = KMeans(n_clusters=7)\n",
    "Y = data['MixLabel'].apply(lambda x: int(x))\n",
    "Y_pred = model.fit_predict(X)\n",
    "for i in set(Y_pred):\n",
    "    print(\"cluster\", i)\n",
    "    print(pd.Series(Y[Y_pred==i]).apply(lambda x: str(x)).value_counts())"
   ]
  },
  {
   "cell_type": "code",
   "execution_count": 55,
   "metadata": {},
   "outputs": [
    {
     "name": "stdout",
     "output_type": "stream",
     "text": [
      "cluster 0\n",
      "4    37\n",
      "3    23\n",
      "2    13\n",
      "Name: MixLabel, dtype: int64\n",
      "cluster 1\n",
      "1    103\n",
      "2     32\n",
      "4     31\n",
      "3     26\n",
      "0     25\n",
      "Name: MixLabel, dtype: int64\n",
      "cluster 2\n",
      "1    37\n",
      "0    22\n",
      "Name: MixLabel, dtype: int64\n",
      "cluster 3\n",
      "3    202\n",
      "4     95\n",
      "Name: MixLabel, dtype: int64\n",
      "cluster 5\n",
      "3    415\n",
      "4     19\n",
      "Name: MixLabel, dtype: int64\n",
      "cluster 6\n",
      "0    11\n",
      "1     3\n",
      "Name: MixLabel, dtype: int64\n"
     ]
    }
   ],
   "source": [
    "Y_test = data_test['MixLabel'].apply(lambda x: int(x))\n",
    "Y_test_pred = model.predict(X_test)\n",
    "for i in set(Y_test_pred):\n",
    "    print(\"cluster\", i)\n",
    "    print(pd.Series(Y_test[Y_test_pred==i]).apply(lambda x: str(x)).value_counts())"
   ]
  },
  {
   "cell_type": "code",
   "execution_count": 56,
   "metadata": {},
   "outputs": [
    {
     "name": "stdout",
     "output_type": "stream",
     "text": [
      "cluster 0\n",
      "2    142\n",
      "Name: Fluid, dtype: int64\n",
      "cluster 1\n",
      "1    164\n",
      "2     19\n",
      "Name: Fluid, dtype: int64\n",
      "cluster 2\n",
      "1    152\n",
      "2     19\n",
      "Name: Fluid, dtype: int64\n",
      "cluster 3\n",
      "2    245\n",
      "Name: Fluid, dtype: int64\n",
      "cluster 4\n",
      "2    1\n",
      "1    1\n",
      "Name: Fluid, dtype: int64\n",
      "cluster 5\n",
      "2    278\n",
      "Name: Fluid, dtype: int64\n",
      "cluster 6\n",
      "1    4\n",
      "Name: Fluid, dtype: int64\n"
     ]
    }
   ],
   "source": [
    "# model = KMeans(n_clusters=7)\n",
    "Y = data['Fluid'].apply(lambda x: int(x))\n",
    "Y_pred = model.predict(X)\n",
    "for i in set(Y_pred):\n",
    "    print(\"cluster\", i)\n",
    "    print(pd.Series(Y[Y_pred==i]).apply(lambda x: str(x)).value_counts())"
   ]
  },
  {
   "cell_type": "code",
   "execution_count": 57,
   "metadata": {},
   "outputs": [
    {
     "name": "stdout",
     "output_type": "stream",
     "text": [
      "cluster 0\n",
      "2    60\n",
      "1    13\n",
      "Name: Fluid, dtype: int64\n",
      "cluster 1\n",
      "1    160\n",
      "2     57\n",
      "Name: Fluid, dtype: int64\n",
      "cluster 2\n",
      "1    59\n",
      "Name: Fluid, dtype: int64\n",
      "cluster 3\n",
      "2    297\n",
      "Name: Fluid, dtype: int64\n",
      "cluster 5\n",
      "2    434\n",
      "Name: Fluid, dtype: int64\n",
      "cluster 6\n",
      "1    14\n",
      "Name: Fluid, dtype: int64\n"
     ]
    }
   ],
   "source": [
    "Y_test = data_test['Fluid'].apply(lambda x: int(x))\n",
    "Y_test_pred = model.predict(X_test)\n",
    "for i in set(Y_test_pred):\n",
    "    print(\"cluster\", i)\n",
    "    print(pd.Series(Y_test[Y_test_pred==i]).apply(lambda x: str(x)).value_counts())"
   ]
  },
  {
   "cell_type": "code",
   "execution_count": 58,
   "metadata": {},
   "outputs": [
    {
     "name": "stdout",
     "output_type": "stream",
     "text": [
      "cluster 0\n",
      "2    114\n",
      "1     28\n",
      "Name: Log_Facies, dtype: int64\n",
      "cluster 1\n",
      "2    101\n",
      "3     63\n",
      "1     19\n",
      "Name: Log_Facies, dtype: int64\n",
      "cluster 2\n",
      "1    105\n",
      "2     65\n",
      "3      1\n",
      "Name: Log_Facies, dtype: int64\n",
      "cluster 3\n",
      "1    129\n",
      "2    116\n",
      "Name: Log_Facies, dtype: int64\n",
      "cluster 4\n",
      "1    2\n",
      "Name: Log_Facies, dtype: int64\n",
      "cluster 5\n",
      "1    243\n",
      "2     35\n",
      "Name: Log_Facies, dtype: int64\n",
      "cluster 6\n",
      "1    4\n",
      "Name: Log_Facies, dtype: int64\n"
     ]
    }
   ],
   "source": [
    "# model = KMeans(n_clusters=7)\n",
    "Y = data['Log_Facies'].apply(lambda x: int(x))\n",
    "Y_pred = model.predict(X)\n",
    "for i in set(Y_pred):\n",
    "    print(\"cluster\", i)\n",
    "    print(pd.Series(Y[Y_pred==i]).apply(lambda x: str(x)).value_counts())"
   ]
  },
  {
   "cell_type": "code",
   "execution_count": 59,
   "metadata": {},
   "outputs": [
    {
     "name": "stdout",
     "output_type": "stream",
     "text": [
      "cluster 0\n",
      "2    37\n",
      "1    23\n",
      "3    13\n",
      "Name: Log_Facies, dtype: int64\n",
      "cluster 1\n",
      "2    134\n",
      "1     51\n",
      "3     32\n",
      "Name: Log_Facies, dtype: int64\n",
      "cluster 2\n",
      "2    37\n",
      "1    22\n",
      "Name: Log_Facies, dtype: int64\n",
      "cluster 3\n",
      "1    202\n",
      "2     95\n",
      "Name: Log_Facies, dtype: int64\n",
      "cluster 5\n",
      "1    415\n",
      "2     19\n",
      "Name: Log_Facies, dtype: int64\n",
      "cluster 6\n",
      "1    11\n",
      "2     3\n",
      "Name: Log_Facies, dtype: int64\n"
     ]
    }
   ],
   "source": [
    "Y_test = data_test['Log_Facies'].apply(lambda x: int(x))\n",
    "Y_test_pred = model.predict(X_test)\n",
    "for i in set(Y_test_pred):\n",
    "    print(\"cluster\", i)\n",
    "    print(pd.Series(Y_test[Y_test_pred==i]).apply(lambda x: str(x)).value_counts())"
   ]
  },
  {
   "cell_type": "code",
   "execution_count": null,
   "metadata": {},
   "outputs": [],
   "source": []
  },
  {
   "cell_type": "code",
   "execution_count": null,
   "metadata": {},
   "outputs": [],
   "source": []
  },
  {
   "cell_type": "code",
   "execution_count": null,
   "metadata": {},
   "outputs": [],
   "source": []
  }
 ],
 "metadata": {
  "kernelspec": {
   "display_name": "Python 3",
   "language": "python",
   "name": "python3"
  },
  "language_info": {
   "codemirror_mode": {
    "name": "ipython",
    "version": 3
   },
   "file_extension": ".py",
   "mimetype": "text/x-python",
   "name": "python",
   "nbconvert_exporter": "python",
   "pygments_lexer": "ipython3",
   "version": "3.7.0"
  }
 },
 "nbformat": 4,
 "nbformat_minor": 2
}
